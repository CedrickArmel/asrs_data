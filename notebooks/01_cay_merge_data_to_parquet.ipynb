{
 "cells": [
  {
   "cell_type": "markdown",
   "id": "17c035ed",
   "metadata": {},
   "source": [
    "# TL;DR\n",
    "Dans ce projet, nous exploitons les données de la base ASRS couvrant la période de janvier 1988 à décembre 2020. Étant donné la limite de 5000 lignes par export imposée par la plateforme de téléchargement, les données ont été récupérées en plusieurs morceaux.\n",
    "\n",
    "Dans ce notebook, nous concaténons ces morceaux, puis `nous ne conservons que les colonnes contenant moins de 5% de valeurs manquantes`. Sur les `126 colonnes initiales`, *`seules 14 colonnes respectent ce critère`*. Cette approche permet de réduire la complexité des données tout en conservant les informations essentielles pour notre analyse.\n",
    "\n",
    "Le résultat de ce traitement est exporté au `format parquet` afin de faciliter le stockage et d'optimiser les performances lors des traitements ultérieurs."
   ]
  },
  {
   "cell_type": "code",
   "execution_count": null,
   "id": "4f618d73",
   "metadata": {},
   "outputs": [],
   "source": [
    "from glob import glob\n",
    "import pandas as pd"
   ]
  },
  {
   "cell_type": "code",
   "execution_count": 100,
   "id": "52a527ae",
   "metadata": {},
   "outputs": [],
   "source": [
    "data = [\n",
    "    pd.read_csv(f, on_bad_lines=\"skip\", header=1) for f in glob(\"../data/00_raw/*.csv\")\n",
    "]"
   ]
  },
  {
   "cell_type": "code",
   "execution_count": 40,
   "id": "b9e057f9",
   "metadata": {},
   "outputs": [],
   "source": [
    "df = pd.concat(data)"
   ]
  },
  {
   "cell_type": "code",
   "execution_count": 76,
   "id": "3ab0d6eb",
   "metadata": {},
   "outputs": [],
   "source": [
    "primary_df = df.dropna(thresh=201706, axis=1)"
   ]
  },
  {
   "cell_type": "code",
   "execution_count": 77,
   "id": "e9277b3c",
   "metadata": {},
   "outputs": [
    {
     "data": {
      "application/vnd.microsoft.datawrangler.viewer.v0+json": {
       "columns": [
        {
         "name": "index",
         "rawType": "int64",
         "type": "integer"
        },
        {
         "name": "ACN",
         "rawType": "int64",
         "type": "integer"
        },
        {
         "name": "Date",
         "rawType": "object",
         "type": "unknown"
        },
        {
         "name": "Locale Reference",
         "rawType": "object",
         "type": "string"
        },
        {
         "name": "State Reference",
         "rawType": "object",
         "type": "string"
        },
        {
         "name": "Aircraft Operator",
         "rawType": "object",
         "type": "unknown"
        },
        {
         "name": "Make Model Name",
         "rawType": "object",
         "type": "string"
        },
        {
         "name": "Flight Phase",
         "rawType": "object",
         "type": "string"
        },
        {
         "name": "Reporter Organization",
         "rawType": "object",
         "type": "string"
        },
        {
         "name": "Function",
         "rawType": "object",
         "type": "string"
        },
        {
         "name": "ASRS Report Number.Accession Number",
         "rawType": "object",
         "type": "unknown"
        },
        {
         "name": "Anomaly",
         "rawType": "object",
         "type": "string"
        },
        {
         "name": "Detector",
         "rawType": "object",
         "type": "string"
        },
        {
         "name": "Primary Problem",
         "rawType": "object",
         "type": "string"
        },
        {
         "name": "Narrative",
         "rawType": "object",
         "type": "string"
        },
        {
         "name": "Synopsis",
         "rawType": "object",
         "type": "string"
        }
       ],
       "ref": "f287e37e-2261-4a35-a553-df89aab83f41",
       "rows": [
        [
         "0",
         "1299097",
         "201510",
         "IND.Airport",
         "IN",
         null,
         "B767-300 and 300 ER",
         "Descent",
         "Government",
         "Enroute",
         "1299097",
         "Deviation - Altitude Crossing Restriction Not Met; Deviation - Altitude Overshoot; Deviation / Discrepancy - Procedural Clearance; Deviation / Discrepancy - Procedural Published Material / Policy",
         "Person Air Traffic Control",
         "Human Factors",
         "The flight came over descending to FL240 flying the SMUKE1 arrival over WIDAM intersection.  Because we have been having an issue with the SMUKE and KOLTS arrivals I pointed out the B767 to ZKC K58.  Once the B767 came over I issued the descend via clearance landing northeast.  Shortly after issuing the clearance I noticed that the B767 was descending below FL240 prior to OLIPE which has a crossing of At Or Above FL240.  The B767 crossed OLIPE approximately FL230.  I notified the supervisor and then issued the brasher statement to the B767 crew.My understanding is that the pilots are being issued the crossing at ZID/ZKC boundary at FL240 and are overlooking the crossing at OLIPE after being issued the descend via.",
         "A ZID Controller and the two B767 pilots involved describe a missed crossing restriction at OLIPE on the SMUKE1 RNAV to IND and the reasons for it."
        ],
        [
         "1",
         "1299098",
         "201510",
         "ZZZ.TRACON",
         "US",
         "Military",
         "Military",
         "Initial Approach",
         "Government",
         "Approach",
         "1299098",
         "Conflict Airborne Conflict; Deviation - Speed All Types; Deviation - Track / Heading All Types; Deviation / Discrepancy - Procedural FAR",
         "Person Air Traffic Control",
         "Human Factors",
         "I was sequencing multiple arrivals to ZZZ; 2 regional jets and a flight of 4 military aircraft. Aircraft X was on vectors for sequencing; restricted to VFR at 3500 feet and I issued a speed restriction of 210 knots for spacing and Aircraft X acknowledged. Aircraft Y continued to slow on final due so I instructed Aircraft X a speed restriction of 180 knots and was told 'unable' but they offered to make a right 360 degree turn instead. I approved the maneuver and on roll-out from the 360 degree turn to the assigned heading they increased their airspeed to over 300 knots ground speed. I again asked them to reduce their airspeed to 210 knots and to proceed to initial but they never took the speed restriction; at this time; Aircraft Z called airborne off of ZZZ1 to pick up his IFR clearance. I told Aircraft Z to maintain VFR at or below 3000 feet for Aircraft X traffic above him and made the traffic call. Aircraft Z called the military aircraft in sight and was told to maintain visual separation. Aircraft X was too close for spacing behind Aircraft Y due to their speed and told me they were doing a left 360 degree turn. I told them to fly a heading of 320 degree for traffic (Aircraft Z) and was ignored. I told Aircraft X again to fly heading 320 vector for traffic; made the traffic call and was ignored a second time. Finally; Aircraft X asked where the traffic was and I told them a third time to fly heading 320 to avoid the traffic (Aircraft Z) and was acknowledged on the third time I gave them instructions. Once Aircraft Z was clear of the Aircraft X final; I gave Aircraft X direct to initial and the descent.The military aircraft have on numerous occasions not responded to instructions when they aren't given their exact request. They need to understand that they are not the only aircraft we service and all attempts are made to accommodate their requests but they need to comply with ATC instructions.",
         "A Controller was vectoring a VFR flight of four military aircraft in Class C airspace for sequencing. The aircraft made a 360 degree turn for spacing which put them into a potential conflict with an IFR departure off a nearby airport. The Controller restricted the altitude of the departure and the military flight to ensure separation. The Controller attempted to vector the military aircraft for sequencing and away from the departure traffic but they would not respond to the instructions. The military aircraft attempted to maneuver on their own and ignored the Controller's speed assignment. After several attempts the Controller's vector instructions were acknowledged and complied with."
        ],
        [
         "2",
         "1299106",
         "201510",
         "ZMA.ARTCC",
         "FL",
         "Government",
         "Medium Transport; Low Wing; 2 Turbojet Eng",
         "Cruise",
         "Government",
         "Handoff / Assist; Oceanic",
         "1299106",
         "Airspace Violation All Types; Deviation / Discrepancy - Procedural Published Material / Policy",
         "Person Air Traffic Control",
         "Procedure",
         "An aircraft entered New York's non-radar airspace; without coordination. I took responsibility for the position a few minutes before the aircraft reached the boundary between Miami ARTCC and New York ARTCC's non-radar airspace. During the position relief briefing the controller being relieved did not mention that the aircraft had not been coordinated; and the flight strip was laid flat. I did not catch it during the relief briefing because it was among many other strips for aircraft northbound that had been coordinated; I did not look in detail at each individual strip during the briefing. My focus was mainly looking at the far opposite corner from where the aircraft was; due to the major weather deviations. I also had briefed the previous controller; that he would need to pass an estimate to New York once the aircraft entered our airspace; because I had briefed the previous controller I had a false assurance that the estimate had already been passed. As soon as I sat down after assuming responsibility for the position; I started to verify that all New York airspace bound aircraft were at their coordinated altitudes. At that time I noticed that the aircraft had not been coordinated with New York; I immediately called the New York sector to coordinate; now about 1 minute from the boundary. New York did not answer the line; after calling multiple times another sector for New York picked up the line and told me that the controller was on another line and he would call me back. I told the controller that I needed to pass an estimate on an aircraft at the boundary; and he replied again that the other controller would call me back; at which point I hung up the line. We were no longer in contact with the aircraft at this time; because the radar controller had terminated radar service and switched the aircraft to Commercial Radio frequencies prior to me assuming the radar assist position. The New York controller called back after the aircraft was approximately 30 miles inside their airspace; the Radar Controller talked to the controller because I was on another line with another facility at the time. The New York controller told the Radar Controller that we had an airspace deviation because New York did not receive an estimate; and the New York controller said he had no paperwork for the flight. The Radar Controller was under the assumption that we did not have to coordinate these special flights with New York due to the paperwork that is distributed to all facilities involved with the operation. He thought New York already knew the aircraft was entering back into their airspace at approximately that time; so he did not think an estimate needed to be passed to New York before he had terminated radar service and switched the aircraft to Commercial Radio frequencies before I sat down.In the short time I have been at the facility I have learned that there are constant issues with all of the Hurricane Hunter/Weather Recon aircraft. There is a great amount of confusion between all the controllers; supervisors; and the aircraft pilots; as to what procedures are required and what is required of the pilots and controllers during operations. I think there should be outlined specific procedures outlined for operations; outlining what is expected of the pilots and what is expected of the controllers during hurricane/weather recon operations.",
         "ARTCC Controller reported relieving a position; but did not initially catch that an aircraft had not been coordinated with its next ARTCC. The error was caught only a minute before the aircraft crossed the boundary and the receiving ARTCC Controller could not be contacted before the aircraft crossed the boundary resulting in an airspace deviation."
        ],
        [
         "3",
         "1299250",
         "201510",
         "ZZZ.ARTCC",
         "US",
         "Air Carrier",
         "A319",
         "Cruise",
         "Air Carrier",
         "Pilot Not Flying; First Officer",
         "1299250",
         "Deviation - Altitude Excursion From Assigned Altitude; Deviation / Discrepancy - Procedural Clearance; Flight Deck / Cabin / Aircraft Event Illness / Injury; Inflight Event / Encounter Weather / Turbulence",
         "Person Flight Crew",
         "Weather",
         "We were cruising at FL360; in cirrus type clouds; experiencing continuous light chop.  Seat belt sign was on; and no returns were depicted on the weather radar display.  We had heard no PIREPs or advisories concerning turbulence or convective activity.  Suddenly; the turbulence increased to moderate; and we heard rain hitting the airplane.  This lasted 5-10 sec; then we experienced a rapid; almost instant 1;500 fpm climb to an altitude about 400 feet above the assigned altitude.  Immediately thereafter; we felt a drop as we exited the clouds.  The Captain was Pilot Flying and returned the airplane to the assigned altitude....By the time we coordinated with flight attendants as to passenger and/or crew injuries; made a plan as to how best to address the situation; and checked in with Center; we were very near our top of descent.  We were still getting information as to passenger injuries and we needed to prepare for our approach.  We requested a straight-in; expedited approach.  During the descent; we were still coordinating with the cabin crew; answering questions from Center; and setting up for the approach and landing.   I (pilot not flying) called ahead to Operations to advise them that we were in-range and needed medical personnel to meet the flight. I'm not sure how we could have avoided this event. The Captain did have the seat belt sign on; and made a predeparture PA telling the passengers to leave seat belts fastened while seated.  He also made a PA 'Flight attendants be seated immediately'; as the event began; which according to the number 1; allowed him to avoid injury.",
         "A319 Flight Crew experienced turbulence in cirrus clouds at FL360 which caused abrupt altitude gain and resulted in passenger injury."
        ],
        [
         "4",
         "1299290",
         "201510",
         "ZZZ.Airport",
         "US",
         "Air Carrier",
         "MD-11",
         "Initial Approach",
         "Air Carrier",
         "Captain",
         "1299290",
         "Aircraft Equipment Problem Less Severe; Inflight Event / Encounter Bird / Animal",
         "Person Flight Crew",
         "Environment - Non Weather Related",
         "Bird strike at approximately 300-400 AGL during a visual approach. Heard impact close to cockpit. No noted changes to engine nor flight performance. Close to ground with clearance to land; we decided to continue to landing with First Officer (FO) flying. Excellent approach to landing on centerline.  No degradation of flight controls nor degradation of braking on rollout. Master caution appeared as we exited the runway on high speed taxiway.  Noted HYD3 fail alert. Continued with after landing checklist and contacted ground control. Clearance to hold short of another runway. We complied with taxi instructions as the FO read the QRH for the Hyd3 fail. FO covered the consequences and contacted ramp control to forward our issue along and pass call to maintenance.  Captain performed a basic taxi control check and conferred with FO regarding the need for a tow in to the gate due to perceived lack of control in tight right turns as per limitations in QRH. Captain felt able to make the turn on to taxiway after crossing the runway to get as close to the gate as possible.  While attempting right turn onto the taxiway; and with the help of information from the following aircraft; the decision was made by the crew to stop the turn and shutdown until maintenance could tow the aircraft. Maintenance and airfield ops came to the aircraft to commence the tow into a closer gate; and found that a large Hawk had impacted the front of the nose gear shearing the hydraulic line and emptying the number 3 hydraulic system.",
         "On short final; an MD-11 was impacted by a bird; which sheared a hydraulic line in the nose gear assembly. This resulted in a loss of the Number 3 Hydraulic System and ability to taxi. The crew requested and received a tow to parking."
        ]
       ],
       "shape": {
        "columns": 15,
        "rows": 5
       }
      },
      "text/html": [
       "<div>\n",
       "<style scoped>\n",
       "    .dataframe tbody tr th:only-of-type {\n",
       "        vertical-align: middle;\n",
       "    }\n",
       "\n",
       "    .dataframe tbody tr th {\n",
       "        vertical-align: top;\n",
       "    }\n",
       "\n",
       "    .dataframe thead th {\n",
       "        text-align: right;\n",
       "    }\n",
       "</style>\n",
       "<table border=\"1\" class=\"dataframe\">\n",
       "  <thead>\n",
       "    <tr style=\"text-align: right;\">\n",
       "      <th></th>\n",
       "      <th>ACN</th>\n",
       "      <th>Date</th>\n",
       "      <th>Locale Reference</th>\n",
       "      <th>State Reference</th>\n",
       "      <th>Aircraft Operator</th>\n",
       "      <th>Make Model Name</th>\n",
       "      <th>Flight Phase</th>\n",
       "      <th>Reporter Organization</th>\n",
       "      <th>Function</th>\n",
       "      <th>ASRS Report Number.Accession Number</th>\n",
       "      <th>Anomaly</th>\n",
       "      <th>Detector</th>\n",
       "      <th>Primary Problem</th>\n",
       "      <th>Narrative</th>\n",
       "      <th>Synopsis</th>\n",
       "    </tr>\n",
       "  </thead>\n",
       "  <tbody>\n",
       "    <tr>\n",
       "      <th>0</th>\n",
       "      <td>1299097</td>\n",
       "      <td>201510</td>\n",
       "      <td>IND.Airport</td>\n",
       "      <td>IN</td>\n",
       "      <td>NaN</td>\n",
       "      <td>B767-300 and 300 ER</td>\n",
       "      <td>Descent</td>\n",
       "      <td>Government</td>\n",
       "      <td>Enroute</td>\n",
       "      <td>1299097</td>\n",
       "      <td>Deviation - Altitude Crossing Restriction Not ...</td>\n",
       "      <td>Person Air Traffic Control</td>\n",
       "      <td>Human Factors</td>\n",
       "      <td>The flight came over descending to FL240 flyin...</td>\n",
       "      <td>A ZID Controller and the two B767 pilots invol...</td>\n",
       "    </tr>\n",
       "    <tr>\n",
       "      <th>1</th>\n",
       "      <td>1299098</td>\n",
       "      <td>201510</td>\n",
       "      <td>ZZZ.TRACON</td>\n",
       "      <td>US</td>\n",
       "      <td>Military</td>\n",
       "      <td>Military</td>\n",
       "      <td>Initial Approach</td>\n",
       "      <td>Government</td>\n",
       "      <td>Approach</td>\n",
       "      <td>1299098</td>\n",
       "      <td>Conflict Airborne Conflict; Deviation - Speed ...</td>\n",
       "      <td>Person Air Traffic Control</td>\n",
       "      <td>Human Factors</td>\n",
       "      <td>I was sequencing multiple arrivals to ZZZ; 2 r...</td>\n",
       "      <td>A Controller was vectoring a VFR flight of fou...</td>\n",
       "    </tr>\n",
       "    <tr>\n",
       "      <th>2</th>\n",
       "      <td>1299106</td>\n",
       "      <td>201510</td>\n",
       "      <td>ZMA.ARTCC</td>\n",
       "      <td>FL</td>\n",
       "      <td>Government</td>\n",
       "      <td>Medium Transport; Low Wing; 2 Turbojet Eng</td>\n",
       "      <td>Cruise</td>\n",
       "      <td>Government</td>\n",
       "      <td>Handoff / Assist; Oceanic</td>\n",
       "      <td>1299106</td>\n",
       "      <td>Airspace Violation All Types; Deviation / Disc...</td>\n",
       "      <td>Person Air Traffic Control</td>\n",
       "      <td>Procedure</td>\n",
       "      <td>An aircraft entered New York's non-radar airsp...</td>\n",
       "      <td>ARTCC Controller reported relieving a position...</td>\n",
       "    </tr>\n",
       "    <tr>\n",
       "      <th>3</th>\n",
       "      <td>1299250</td>\n",
       "      <td>201510</td>\n",
       "      <td>ZZZ.ARTCC</td>\n",
       "      <td>US</td>\n",
       "      <td>Air Carrier</td>\n",
       "      <td>A319</td>\n",
       "      <td>Cruise</td>\n",
       "      <td>Air Carrier</td>\n",
       "      <td>Pilot Not Flying; First Officer</td>\n",
       "      <td>1299250</td>\n",
       "      <td>Deviation - Altitude Excursion From Assigned A...</td>\n",
       "      <td>Person Flight Crew</td>\n",
       "      <td>Weather</td>\n",
       "      <td>We were cruising at FL360; in cirrus type clou...</td>\n",
       "      <td>A319 Flight Crew experienced turbulence in cir...</td>\n",
       "    </tr>\n",
       "    <tr>\n",
       "      <th>4</th>\n",
       "      <td>1299290</td>\n",
       "      <td>201510</td>\n",
       "      <td>ZZZ.Airport</td>\n",
       "      <td>US</td>\n",
       "      <td>Air Carrier</td>\n",
       "      <td>MD-11</td>\n",
       "      <td>Initial Approach</td>\n",
       "      <td>Air Carrier</td>\n",
       "      <td>Captain</td>\n",
       "      <td>1299290</td>\n",
       "      <td>Aircraft Equipment Problem Less Severe; Inflig...</td>\n",
       "      <td>Person Flight Crew</td>\n",
       "      <td>Environment - Non Weather Related</td>\n",
       "      <td>Bird strike at approximately 300-400 AGL durin...</td>\n",
       "      <td>On short final; an MD-11 was impacted by a bir...</td>\n",
       "    </tr>\n",
       "  </tbody>\n",
       "</table>\n",
       "</div>"
      ],
      "text/plain": [
       "       ACN    Date Locale Reference State Reference Aircraft Operator  \\\n",
       "0  1299097  201510      IND.Airport              IN               NaN   \n",
       "1  1299098  201510       ZZZ.TRACON              US          Military   \n",
       "2  1299106  201510        ZMA.ARTCC              FL        Government   \n",
       "3  1299250  201510        ZZZ.ARTCC              US       Air Carrier   \n",
       "4  1299290  201510      ZZZ.Airport              US       Air Carrier   \n",
       "\n",
       "                              Make Model Name      Flight Phase  \\\n",
       "0                         B767-300 and 300 ER           Descent   \n",
       "1                                    Military  Initial Approach   \n",
       "2  Medium Transport; Low Wing; 2 Turbojet Eng            Cruise   \n",
       "3                                        A319            Cruise   \n",
       "4                                       MD-11  Initial Approach   \n",
       "\n",
       "  Reporter Organization                         Function  \\\n",
       "0            Government                          Enroute   \n",
       "1            Government                         Approach   \n",
       "2            Government        Handoff / Assist; Oceanic   \n",
       "3           Air Carrier  Pilot Not Flying; First Officer   \n",
       "4           Air Carrier                          Captain   \n",
       "\n",
       "  ASRS Report Number.Accession Number  \\\n",
       "0                             1299097   \n",
       "1                             1299098   \n",
       "2                             1299106   \n",
       "3                             1299250   \n",
       "4                             1299290   \n",
       "\n",
       "                                             Anomaly  \\\n",
       "0  Deviation - Altitude Crossing Restriction Not ...   \n",
       "1  Conflict Airborne Conflict; Deviation - Speed ...   \n",
       "2  Airspace Violation All Types; Deviation / Disc...   \n",
       "3  Deviation - Altitude Excursion From Assigned A...   \n",
       "4  Aircraft Equipment Problem Less Severe; Inflig...   \n",
       "\n",
       "                     Detector                    Primary Problem  \\\n",
       "0  Person Air Traffic Control                      Human Factors   \n",
       "1  Person Air Traffic Control                      Human Factors   \n",
       "2  Person Air Traffic Control                          Procedure   \n",
       "3          Person Flight Crew                            Weather   \n",
       "4          Person Flight Crew  Environment - Non Weather Related   \n",
       "\n",
       "                                           Narrative  \\\n",
       "0  The flight came over descending to FL240 flyin...   \n",
       "1  I was sequencing multiple arrivals to ZZZ; 2 r...   \n",
       "2  An aircraft entered New York's non-radar airsp...   \n",
       "3  We were cruising at FL360; in cirrus type clou...   \n",
       "4  Bird strike at approximately 300-400 AGL durin...   \n",
       "\n",
       "                                            Synopsis  \n",
       "0  A ZID Controller and the two B767 pilots invol...  \n",
       "1  A Controller was vectoring a VFR flight of fou...  \n",
       "2  ARTCC Controller reported relieving a position...  \n",
       "3  A319 Flight Crew experienced turbulence in cir...  \n",
       "4  On short final; an MD-11 was impacted by a bir...  "
      ]
     },
     "execution_count": 77,
     "metadata": {},
     "output_type": "execute_result"
    }
   ],
   "source": [
    "primary_df.head()"
   ]
  },
  {
   "cell_type": "code",
   "execution_count": 78,
   "id": "4c2ae862",
   "metadata": {},
   "outputs": [
    {
     "name": "stdout",
     "output_type": "stream",
     "text": [
      "<class 'pandas.core.frame.DataFrame'>\n",
      "Index: 212322 entries, 0 to 4732\n",
      "Data columns (total 15 columns):\n",
      " #   Column                               Non-Null Count   Dtype \n",
      "---  ------                               --------------   ----- \n",
      " 0   ACN                                  212322 non-null  int64 \n",
      " 1   Date                                 212310 non-null  object\n",
      " 2   Locale Reference                     206590 non-null  object\n",
      " 3   State Reference                      208458 non-null  object\n",
      " 4   Aircraft Operator                    202231 non-null  object\n",
      " 5   Make Model Name                      208108 non-null  object\n",
      " 6   Flight Phase                         204024 non-null  object\n",
      " 7   Reporter Organization                210199 non-null  object\n",
      " 8   Function                             210346 non-null  object\n",
      " 9   ASRS Report Number.Accession Number  211281 non-null  object\n",
      " 10  Anomaly                              211531 non-null  object\n",
      " 11  Detector                             207512 non-null  object\n",
      " 12  Primary Problem                      203493 non-null  object\n",
      " 13  Narrative                            212287 non-null  object\n",
      " 14  Synopsis                             212286 non-null  object\n",
      "dtypes: int64(1), object(14)\n",
      "memory usage: 25.9+ MB\n"
     ]
    }
   ],
   "source": [
    "primary_df.info()"
   ]
  },
  {
   "cell_type": "code",
   "execution_count": 79,
   "id": "175de887",
   "metadata": {},
   "outputs": [
    {
     "name": "stderr",
     "output_type": "stream",
     "text": [
      "/var/folders/w4/pt773y8s3b736sz4g0jqyc180000gn/T/ipykernel_27360/1890960120.py:1: SettingWithCopyWarning: \n",
      "A value is trying to be set on a copy of a slice from a DataFrame.\n",
      "Try using .loc[row_indexer,col_indexer] = value instead\n",
      "\n",
      "See the caveats in the documentation: https://pandas.pydata.org/pandas-docs/stable/user_guide/indexing.html#returning-a-view-versus-a-copy\n",
      "  primary_df[\"Date\"] = pd.to_datetime(primary_df[\"Date\"], format=\"%Y%m\", errors=\"coerce\")\n"
     ]
    }
   ],
   "source": [
    "primary_df[\"Date\"] = pd.to_datetime(primary_df[\"Date\"], format=\"%Y%m\", errors=\"coerce\")\n",
    "primary_df = primary_df.astype({\"ACN\": \"uint32\"})"
   ]
  },
  {
   "cell_type": "code",
   "execution_count": 80,
   "id": "5e28d1e2",
   "metadata": {},
   "outputs": [
    {
     "name": "stdout",
     "output_type": "stream",
     "text": [
      "<class 'pandas.core.frame.DataFrame'>\n",
      "Index: 212322 entries, 0 to 4732\n",
      "Data columns (total 15 columns):\n",
      " #   Column                               Non-Null Count   Dtype         \n",
      "---  ------                               --------------   -----         \n",
      " 0   ACN                                  212322 non-null  uint32        \n",
      " 1   Date                                 208368 non-null  datetime64[ns]\n",
      " 2   Locale Reference                     206590 non-null  object        \n",
      " 3   State Reference                      208458 non-null  object        \n",
      " 4   Aircraft Operator                    202231 non-null  object        \n",
      " 5   Make Model Name                      208108 non-null  object        \n",
      " 6   Flight Phase                         204024 non-null  object        \n",
      " 7   Reporter Organization                210199 non-null  object        \n",
      " 8   Function                             210346 non-null  object        \n",
      " 9   ASRS Report Number.Accession Number  211281 non-null  object        \n",
      " 10  Anomaly                              211531 non-null  object        \n",
      " 11  Detector                             207512 non-null  object        \n",
      " 12  Primary Problem                      203493 non-null  object        \n",
      " 13  Narrative                            212287 non-null  object        \n",
      " 14  Synopsis                             212286 non-null  object        \n",
      "dtypes: datetime64[ns](1), object(13), uint32(1)\n",
      "memory usage: 25.1+ MB\n"
     ]
    }
   ],
   "source": [
    "primary_df.info()"
   ]
  },
  {
   "cell_type": "code",
   "execution_count": 82,
   "id": "b433b842",
   "metadata": {},
   "outputs": [],
   "source": [
    "primary_df = primary_df.drop(labels=[\"ASRS Report Number.Accession Number\"], axis=1)"
   ]
  },
  {
   "cell_type": "code",
   "execution_count": 86,
   "id": "1e09695b",
   "metadata": {},
   "outputs": [],
   "source": [
    "primary_df.columns = [\n",
    "    col.lower().strip().replace(\" \", \"_\") for col in primary_df.columns\n",
    "]"
   ]
  },
  {
   "cell_type": "code",
   "execution_count": 87,
   "id": "cf4bf870",
   "metadata": {},
   "outputs": [
    {
     "name": "stdout",
     "output_type": "stream",
     "text": [
      "<class 'pandas.core.frame.DataFrame'>\n",
      "Index: 212322 entries, 0 to 4732\n",
      "Data columns (total 14 columns):\n",
      " #   Column                 Non-Null Count   Dtype         \n",
      "---  ------                 --------------   -----         \n",
      " 0   acn                    212322 non-null  uint32        \n",
      " 1   date                   208368 non-null  datetime64[ns]\n",
      " 2   locale_reference       206590 non-null  object        \n",
      " 3   state_reference        208458 non-null  object        \n",
      " 4   aircraft_operator      202231 non-null  object        \n",
      " 5   make_model_name        208108 non-null  object        \n",
      " 6   flight_phase           204024 non-null  object        \n",
      " 7   reporter_organization  210199 non-null  object        \n",
      " 8   function               210346 non-null  object        \n",
      " 9   anomaly                211531 non-null  object        \n",
      " 10  detector               207512 non-null  object        \n",
      " 11  primary_problem        203493 non-null  object        \n",
      " 12  narrative              212287 non-null  object        \n",
      " 13  synopsis               212286 non-null  object        \n",
      "dtypes: datetime64[ns](1), object(12), uint32(1)\n",
      "memory usage: 31.6+ MB\n"
     ]
    }
   ],
   "source": [
    "primary_df.info()"
   ]
  },
  {
   "cell_type": "code",
   "execution_count": null,
   "id": "a7355a37",
   "metadata": {},
   "outputs": [],
   "source": [
    "primary_df.to_parquet(\"../data/01_primary/asrs_data_primary.parquet\", index=False)"
   ]
  },
  {
   "cell_type": "code",
   "execution_count": null,
   "id": "f6c82d57",
   "metadata": {},
   "outputs": [],
   "source": [
    "primary_df.to_parquet(\n",
    "    \"../data/01_primary/asrs_data_primary.parquet.gzip\", index=False, compression=\"gzip\"\n",
    ")"
   ]
  }
 ],
 "metadata": {
  "kernelspec": {
   "display_name": "asrs",
   "language": "python",
   "name": "python3"
  },
  "language_info": {
   "codemirror_mode": {
    "name": "ipython",
    "version": 3
   },
   "file_extension": ".py",
   "mimetype": "text/x-python",
   "name": "python",
   "nbconvert_exporter": "python",
   "pygments_lexer": "ipython3",
   "version": "3.10.16"
  }
 },
 "nbformat": 4,
 "nbformat_minor": 5
}
