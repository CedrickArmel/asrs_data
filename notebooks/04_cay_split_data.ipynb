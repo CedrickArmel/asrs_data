{
 "cells": [
  {
   "cell_type": "markdown",
   "id": "1c4789b4",
   "metadata": {},
   "source": [
    "# TL;DR\n",
    "- Le dataset contient 212322 observation dont 791 (<1%) n'a aucune anomalie de renseignée (i.e NaN)\n",
    "\n",
    "- Un regex a été utilisé pour parcourir les anomalies afin de les assigner à l'une des 14 catégories de la taxonomie. Pour 9537 observations, c-a-d 8745 effective hors NaN les anomalies renseignées ne correspondent pas ou ne contiennent pas les labels de la taxonomie. # TODO: Ces observations seront mis à part et ne seront pas utilisé pour l'entrainement dans un premier temps.\n",
    "- La partie des données correctement annotés a été divisé en 3 : Train, Validation, Test dont la proportion des classes est représentative de la population initiales d'observations.\n",
    "- Le dataset est fortement déséquilibre entre les classes"
   ]
  },
  {
   "cell_type": "code",
   "execution_count": 117,
   "id": "5b17e232",
   "metadata": {},
   "outputs": [],
   "source": [
    "import json\n",
    "import re\n",
    "from collections import Counter\n",
    "import matplotlib.pyplot as plt\n",
    "import pandas as pd\n",
    "import seaborn as sns\n",
    "from sklearn.model_selection import train_test_split"
   ]
  },
  {
   "cell_type": "code",
   "execution_count": 2,
   "id": "18d5f68a",
   "metadata": {},
   "outputs": [],
   "source": [
    "df1 = pd.read_parquet(\"../data/01_primary/asrs_data_primary.parquet\")"
   ]
  },
  {
   "cell_type": "code",
   "execution_count": 3,
   "id": "b2f57f99",
   "metadata": {},
   "outputs": [],
   "source": [
    "with open(\"../data/01_primary/taxonomy.json\", \"r\") as f:\n",
    "    taxonomy = json.load(f)"
   ]
  },
  {
   "cell_type": "code",
   "execution_count": 4,
   "id": "0f8b0c7e",
   "metadata": {},
   "outputs": [],
   "source": [
    "categories = [cat for cat in taxonomy.keys() if cat not in [\"Other\", \"ATC Issues\"]] + [\n",
    "    \"ATC Issue\"\n",
    "]\n",
    "escaped_categories = escaped_terms = [\n",
    "    re.escape(term.strip().replace(\" / \", \"/\")) for term in categories\n",
    "]\n",
    "pattern = re.compile(r\"(\" + \"|\".join(escaped_categories) + r\")\")"
   ]
  },
  {
   "cell_type": "code",
   "execution_count": 6,
   "id": "2508164e",
   "metadata": {},
   "outputs": [],
   "source": [
    "def get_category(text: \"str\", pattern: \"re.Pattern\"):\n",
    "    if text is not None:\n",
    "        return \" ; \".join(list(set(pattern.findall(text.strip().replace(\" / \", \"/\")))))"
   ]
  },
  {
   "cell_type": "code",
   "execution_count": 7,
   "id": "b09abc7d",
   "metadata": {},
   "outputs": [],
   "source": [
    "df1a = df1[[\"acn\", \"narrative\", \"anomaly\"]]"
   ]
  },
  {
   "cell_type": "code",
   "execution_count": 8,
   "id": "15a09235",
   "metadata": {},
   "outputs": [
    {
     "name": "stderr",
     "output_type": "stream",
     "text": [
      "/var/folders/w4/pt773y8s3b736sz4g0jqyc180000gn/T/ipykernel_43775/2310314930.py:1: SettingWithCopyWarning: \n",
      "A value is trying to be set on a copy of a slice from a DataFrame.\n",
      "Try using .loc[row_indexer,col_indexer] = value instead\n",
      "\n",
      "See the caveats in the documentation: https://pandas.pydata.org/pandas-docs/stable/user_guide/indexing.html#returning-a-view-versus-a-copy\n",
      "  df1a[\"anomaly\"] = df1.anomaly.apply(lambda t: get_category(text=t, pattern=pattern))\n"
     ]
    }
   ],
   "source": [
    "df1a[\"anomaly\"] = df1.anomaly.apply(lambda t: get_category(text=t, pattern=pattern))"
   ]
  },
  {
   "cell_type": "code",
   "execution_count": 22,
   "id": "7a4e9d8a",
   "metadata": {},
   "outputs": [],
   "source": [
    "occurences = []\n",
    "none_counter = 0\n",
    "for item in df1a[\"anomaly\"].to_list():\n",
    "    if item is not None:\n",
    "        occurences.extend([term.strip() for term in item.split(\";\")])\n",
    "    else:\n",
    "        none_counter += 1"
   ]
  },
  {
   "cell_type": "code",
   "execution_count": 23,
   "id": "7442596b",
   "metadata": {},
   "outputs": [],
   "source": [
    "counter = Counter(occurences)"
   ]
  },
  {
   "cell_type": "code",
   "execution_count": 24,
   "id": "108181e8",
   "metadata": {},
   "outputs": [
    {
     "data": {
      "text/plain": [
       "Counter({'Deviation/Discrepancy - Procedural': 129195,\n",
       "         'Aircraft Equipment': 69177,\n",
       "         'Conflict': 43390,\n",
       "         'Inflight Event/Encounter': 32478,\n",
       "         'Deviation - Altitude': 26777,\n",
       "         'ATC Issue': 26576,\n",
       "         'Deviation - Track/Heading': 20037,\n",
       "         'Ground Incursion': 11537,\n",
       "         'Airspace Violation': 10550,\n",
       "         'Flight Deck/Cabin/Aircraft Event': 10278,\n",
       "         'Ground Event/Encounter': 10040,\n",
       "         '': 9537,\n",
       "         'Deviation - Speed': 4310,\n",
       "         'Ground Excursion': 2786,\n",
       "         'No Specific Anomaly Occurred': 1433})"
      ]
     },
     "execution_count": 24,
     "metadata": {},
     "output_type": "execute_result"
    }
   ],
   "source": [
    "counter"
   ]
  },
  {
   "cell_type": "code",
   "execution_count": 25,
   "id": "6b9320b8",
   "metadata": {},
   "outputs": [
    {
     "data": {
      "text/plain": [
       "791"
      ]
     },
     "execution_count": 25,
     "metadata": {},
     "output_type": "execute_result"
    }
   ],
   "source": [
    "none_counter"
   ]
  },
  {
   "cell_type": "code",
   "execution_count": null,
   "id": "32751d2a",
   "metadata": {},
   "outputs": [],
   "source": [
    "def get_category(text: \"str\", pattern: \"re.Pattern\"):\n",
    "    if text is not None:\n",
    "        return \" ; \".join(list(set(pattern.findall(text.strip().replace(\" / \", \"/\")))))"
   ]
  },
  {
   "cell_type": "code",
   "execution_count": 46,
   "id": "a9ea8c8d",
   "metadata": {},
   "outputs": [],
   "source": [
    "one_hot_mapping = dict(zip(sorted(categories), range(0, 14)))\n",
    "one_hot_mapping = {\n",
    "    k.strip().replace(\" / \", \"/\"): v for (k, v) in one_hot_mapping.items()\n",
    "}\n",
    "with open(\"../data/01_primary/one_hot_mapping.json\", \"w\") as f:\n",
    "    json.dump(one_hot_mapping, f, indent=4)"
   ]
  },
  {
   "cell_type": "code",
   "execution_count": 47,
   "id": "b892091c",
   "metadata": {},
   "outputs": [
    {
     "data": {
      "text/plain": [
       "{'ATC Issue': 0,\n",
       " 'Aircraft Equipment': 1,\n",
       " 'Airspace Violation': 2,\n",
       " 'Conflict': 3,\n",
       " 'Deviation - Altitude': 4,\n",
       " 'Deviation - Speed': 5,\n",
       " 'Deviation - Track/Heading': 6,\n",
       " 'Deviation/Discrepancy - Procedural': 7,\n",
       " 'Flight Deck/Cabin/Aircraft Event': 8,\n",
       " 'Ground Event/Encounter': 9,\n",
       " 'Ground Excursion': 10,\n",
       " 'Ground Incursion': 11,\n",
       " 'Inflight Event/Encounter': 12,\n",
       " 'No Specific Anomaly Occurred': 13}"
      ]
     },
     "execution_count": 47,
     "metadata": {},
     "output_type": "execute_result"
    }
   ],
   "source": [
    "one_hot_mapping"
   ]
  },
  {
   "cell_type": "code",
   "execution_count": 52,
   "id": "a0eef251",
   "metadata": {},
   "outputs": [],
   "source": [
    "df1a = df1a.dropna(axis=0, how=\"any\")"
   ]
  },
  {
   "cell_type": "code",
   "execution_count": 81,
   "id": "487f6db0",
   "metadata": {},
   "outputs": [],
   "source": [
    "df1b = df1a.loc[df1a[\"anomaly\"] != \"\"]\n",
    "df1c = df1a.loc[df1a[\"anomaly\"] == \"\"]"
   ]
  },
  {
   "cell_type": "code",
   "execution_count": 96,
   "id": "c0b36102",
   "metadata": {},
   "outputs": [
    {
     "data": {
      "application/vnd.microsoft.datawrangler.viewer.v0+json": {
       "columns": [
        {
         "name": "index",
         "rawType": "int64",
         "type": "integer"
        },
        {
         "name": "acn",
         "rawType": "uint32",
         "type": "integer"
        },
        {
         "name": "narrative",
         "rawType": "object",
         "type": "string"
        },
        {
         "name": "anomaly",
         "rawType": "object",
         "type": "string"
        }
       ],
       "ref": "2ad7efda-edec-4a88-95aa-9bc9bbf8cfd1",
       "rows": [
        [
         "0",
         "1299097",
         "The flight came over descending to FL240 flying the SMUKE1 arrival over WIDAM intersection.  Because we have been having an issue with the SMUKE and KOLTS arrivals I pointed out the B767 to ZKC K58.  Once the B767 came over I issued the descend via clearance landing northeast.  Shortly after issuing the clearance I noticed that the B767 was descending below FL240 prior to OLIPE which has a crossing of At Or Above FL240.  The B767 crossed OLIPE approximately FL230.  I notified the supervisor and then issued the brasher statement to the B767 crew.My understanding is that the pilots are being issued the crossing at ZID/ZKC boundary at FL240 and are overlooking the crossing at OLIPE after being issued the descend via.",
         "Deviation - Altitude ; Deviation/Discrepancy - Procedural"
        ],
        [
         "1",
         "1299098",
         "I was sequencing multiple arrivals to ZZZ; 2 regional jets and a flight of 4 military aircraft. Aircraft X was on vectors for sequencing; restricted to VFR at 3500 feet and I issued a speed restriction of 210 knots for spacing and Aircraft X acknowledged. Aircraft Y continued to slow on final due so I instructed Aircraft X a speed restriction of 180 knots and was told 'unable' but they offered to make a right 360 degree turn instead. I approved the maneuver and on roll-out from the 360 degree turn to the assigned heading they increased their airspeed to over 300 knots ground speed. I again asked them to reduce their airspeed to 210 knots and to proceed to initial but they never took the speed restriction; at this time; Aircraft Z called airborne off of ZZZ1 to pick up his IFR clearance. I told Aircraft Z to maintain VFR at or below 3000 feet for Aircraft X traffic above him and made the traffic call. Aircraft Z called the military aircraft in sight and was told to maintain visual separation. Aircraft X was too close for spacing behind Aircraft Y due to their speed and told me they were doing a left 360 degree turn. I told them to fly a heading of 320 degree for traffic (Aircraft Z) and was ignored. I told Aircraft X again to fly heading 320 vector for traffic; made the traffic call and was ignored a second time. Finally; Aircraft X asked where the traffic was and I told them a third time to fly heading 320 to avoid the traffic (Aircraft Z) and was acknowledged on the third time I gave them instructions. Once Aircraft Z was clear of the Aircraft X final; I gave Aircraft X direct to initial and the descent.The military aircraft have on numerous occasions not responded to instructions when they aren't given their exact request. They need to understand that they are not the only aircraft we service and all attempts are made to accommodate their requests but they need to comply with ATC instructions.",
         "Conflict ; Deviation/Discrepancy - Procedural ; Deviation - Track/Heading ; Deviation - Speed"
        ],
        [
         "2",
         "1299106",
         "An aircraft entered New York's non-radar airspace; without coordination. I took responsibility for the position a few minutes before the aircraft reached the boundary between Miami ARTCC and New York ARTCC's non-radar airspace. During the position relief briefing the controller being relieved did not mention that the aircraft had not been coordinated; and the flight strip was laid flat. I did not catch it during the relief briefing because it was among many other strips for aircraft northbound that had been coordinated; I did not look in detail at each individual strip during the briefing. My focus was mainly looking at the far opposite corner from where the aircraft was; due to the major weather deviations. I also had briefed the previous controller; that he would need to pass an estimate to New York once the aircraft entered our airspace; because I had briefed the previous controller I had a false assurance that the estimate had already been passed. As soon as I sat down after assuming responsibility for the position; I started to verify that all New York airspace bound aircraft were at their coordinated altitudes. At that time I noticed that the aircraft had not been coordinated with New York; I immediately called the New York sector to coordinate; now about 1 minute from the boundary. New York did not answer the line; after calling multiple times another sector for New York picked up the line and told me that the controller was on another line and he would call me back. I told the controller that I needed to pass an estimate on an aircraft at the boundary; and he replied again that the other controller would call me back; at which point I hung up the line. We were no longer in contact with the aircraft at this time; because the radar controller had terminated radar service and switched the aircraft to Commercial Radio frequencies prior to me assuming the radar assist position. The New York controller called back after the aircraft was approximately 30 miles inside their airspace; the Radar Controller talked to the controller because I was on another line with another facility at the time. The New York controller told the Radar Controller that we had an airspace deviation because New York did not receive an estimate; and the New York controller said he had no paperwork for the flight. The Radar Controller was under the assumption that we did not have to coordinate these special flights with New York due to the paperwork that is distributed to all facilities involved with the operation. He thought New York already knew the aircraft was entering back into their airspace at approximately that time; so he did not think an estimate needed to be passed to New York before he had terminated radar service and switched the aircraft to Commercial Radio frequencies before I sat down.In the short time I have been at the facility I have learned that there are constant issues with all of the Hurricane Hunter/Weather Recon aircraft. There is a great amount of confusion between all the controllers; supervisors; and the aircraft pilots; as to what procedures are required and what is required of the pilots and controllers during operations. I think there should be outlined specific procedures outlined for operations; outlining what is expected of the pilots and what is expected of the controllers during hurricane/weather recon operations.",
         "Deviation/Discrepancy - Procedural ; Airspace Violation"
        ],
        [
         "3",
         "1299250",
         "We were cruising at FL360; in cirrus type clouds; experiencing continuous light chop.  Seat belt sign was on; and no returns were depicted on the weather radar display.  We had heard no PIREPs or advisories concerning turbulence or convective activity.  Suddenly; the turbulence increased to moderate; and we heard rain hitting the airplane.  This lasted 5-10 sec; then we experienced a rapid; almost instant 1;500 fpm climb to an altitude about 400 feet above the assigned altitude.  Immediately thereafter; we felt a drop as we exited the clouds.  The Captain was Pilot Flying and returned the airplane to the assigned altitude....By the time we coordinated with flight attendants as to passenger and/or crew injuries; made a plan as to how best to address the situation; and checked in with Center; we were very near our top of descent.  We were still getting information as to passenger injuries and we needed to prepare for our approach.  We requested a straight-in; expedited approach.  During the descent; we were still coordinating with the cabin crew; answering questions from Center; and setting up for the approach and landing.   I (pilot not flying) called ahead to Operations to advise them that we were in-range and needed medical personnel to meet the flight. I'm not sure how we could have avoided this event. The Captain did have the seat belt sign on; and made a predeparture PA telling the passengers to leave seat belts fastened while seated.  He also made a PA 'Flight attendants be seated immediately'; as the event began; which according to the number 1; allowed him to avoid injury.",
         "Deviation - Altitude ; Deviation/Discrepancy - Procedural ; Inflight Event/Encounter ; Flight Deck/Cabin/Aircraft Event"
        ],
        [
         "4",
         "1299290",
         "Bird strike at approximately 300-400 AGL during a visual approach. Heard impact close to cockpit. No noted changes to engine nor flight performance. Close to ground with clearance to land; we decided to continue to landing with First Officer (FO) flying. Excellent approach to landing on centerline.  No degradation of flight controls nor degradation of braking on rollout. Master caution appeared as we exited the runway on high speed taxiway.  Noted HYD3 fail alert. Continued with after landing checklist and contacted ground control. Clearance to hold short of another runway. We complied with taxi instructions as the FO read the QRH for the Hyd3 fail. FO covered the consequences and contacted ramp control to forward our issue along and pass call to maintenance.  Captain performed a basic taxi control check and conferred with FO regarding the need for a tow in to the gate due to perceived lack of control in tight right turns as per limitations in QRH. Captain felt able to make the turn on to taxiway after crossing the runway to get as close to the gate as possible.  While attempting right turn onto the taxiway; and with the help of information from the following aircraft; the decision was made by the crew to stop the turn and shutdown until maintenance could tow the aircraft. Maintenance and airfield ops came to the aircraft to commence the tow into a closer gate; and found that a large Hawk had impacted the front of the nose gear shearing the hydraulic line and emptying the number 3 hydraulic system.",
         "Inflight Event/Encounter ; Aircraft Equipment"
        ]
       ],
       "shape": {
        "columns": 3,
        "rows": 5
       }
      },
      "text/html": [
       "<div>\n",
       "<style scoped>\n",
       "    .dataframe tbody tr th:only-of-type {\n",
       "        vertical-align: middle;\n",
       "    }\n",
       "\n",
       "    .dataframe tbody tr th {\n",
       "        vertical-align: top;\n",
       "    }\n",
       "\n",
       "    .dataframe thead th {\n",
       "        text-align: right;\n",
       "    }\n",
       "</style>\n",
       "<table border=\"1\" class=\"dataframe\">\n",
       "  <thead>\n",
       "    <tr style=\"text-align: right;\">\n",
       "      <th></th>\n",
       "      <th>acn</th>\n",
       "      <th>narrative</th>\n",
       "      <th>anomaly</th>\n",
       "    </tr>\n",
       "  </thead>\n",
       "  <tbody>\n",
       "    <tr>\n",
       "      <th>0</th>\n",
       "      <td>1299097</td>\n",
       "      <td>The flight came over descending to FL240 flyin...</td>\n",
       "      <td>Deviation - Altitude ; Deviation/Discrepancy -...</td>\n",
       "    </tr>\n",
       "    <tr>\n",
       "      <th>1</th>\n",
       "      <td>1299098</td>\n",
       "      <td>I was sequencing multiple arrivals to ZZZ; 2 r...</td>\n",
       "      <td>Conflict ; Deviation/Discrepancy - Procedural ...</td>\n",
       "    </tr>\n",
       "    <tr>\n",
       "      <th>2</th>\n",
       "      <td>1299106</td>\n",
       "      <td>An aircraft entered New York's non-radar airsp...</td>\n",
       "      <td>Deviation/Discrepancy - Procedural ; Airspace ...</td>\n",
       "    </tr>\n",
       "    <tr>\n",
       "      <th>3</th>\n",
       "      <td>1299250</td>\n",
       "      <td>We were cruising at FL360; in cirrus type clou...</td>\n",
       "      <td>Deviation - Altitude ; Deviation/Discrepancy -...</td>\n",
       "    </tr>\n",
       "    <tr>\n",
       "      <th>4</th>\n",
       "      <td>1299290</td>\n",
       "      <td>Bird strike at approximately 300-400 AGL durin...</td>\n",
       "      <td>Inflight Event/Encounter ; Aircraft Equipment</td>\n",
       "    </tr>\n",
       "  </tbody>\n",
       "</table>\n",
       "</div>"
      ],
      "text/plain": [
       "       acn                                          narrative  \\\n",
       "0  1299097  The flight came over descending to FL240 flyin...   \n",
       "1  1299098  I was sequencing multiple arrivals to ZZZ; 2 r...   \n",
       "2  1299106  An aircraft entered New York's non-radar airsp...   \n",
       "3  1299250  We were cruising at FL360; in cirrus type clou...   \n",
       "4  1299290  Bird strike at approximately 300-400 AGL durin...   \n",
       "\n",
       "                                             anomaly  \n",
       "0  Deviation - Altitude ; Deviation/Discrepancy -...  \n",
       "1  Conflict ; Deviation/Discrepancy - Procedural ...  \n",
       "2  Deviation/Discrepancy - Procedural ; Airspace ...  \n",
       "3  Deviation - Altitude ; Deviation/Discrepancy -...  \n",
       "4      Inflight Event/Encounter ; Aircraft Equipment  "
      ]
     },
     "execution_count": 96,
     "metadata": {},
     "output_type": "execute_result"
    }
   ],
   "source": [
    "df1b.head()"
   ]
  },
  {
   "cell_type": "code",
   "execution_count": null,
   "id": "fb767a63",
   "metadata": {},
   "outputs": [],
   "source": [
    "df1b_train, df1b_eval = train_test_split(df1b, test_size=0.4, random_state=4294967295)\n",
    "df1b_validation, df1b_test = train_test_split(\n",
    "    df1b_eval, test_size=0.5, random_state=4294967295\n",
    ")"
   ]
  },
  {
   "cell_type": "code",
   "execution_count": 92,
   "id": "958d6048",
   "metadata": {},
   "outputs": [],
   "source": [
    "df1b_train.to_parquet(\"../data/asrs_data_primary_train.parquet\")\n",
    "df1b_validation.to_parquet(\"../data/asrs_data_primary_validation.parquet\")\n",
    "df1b_test.to_parquet(\"../data/asrs_data_primary_test.parquet\")\n",
    "df1c.to_parquet(\"../data/asrs_data_primary_others.parquet\")"
   ]
  },
  {
   "cell_type": "code",
   "execution_count": 106,
   "id": "a93fcf46",
   "metadata": {},
   "outputs": [],
   "source": [
    "def get_occurences(df: \"pd.Dataframe\"):\n",
    "    occurences = []\n",
    "    for item in df[\"anomaly\"].to_list():\n",
    "        if item is not None:\n",
    "            occurences.extend([term.strip() for term in item.split(\";\")])\n",
    "    counter = Counter(occurences)\n",
    "    return counter"
   ]
  },
  {
   "cell_type": "code",
   "execution_count": 107,
   "id": "bb4a11e0",
   "metadata": {},
   "outputs": [],
   "source": [
    "df1b_counter = get_occurences(df=df1b)\n",
    "train_counter = get_occurences(df=df1b_train)\n",
    "val_counter = get_occurences(df=df1b_validation)\n",
    "test_counter = get_occurences(df=df1b_test)"
   ]
  },
  {
   "cell_type": "code",
   "execution_count": 119,
   "id": "87c0c0ae",
   "metadata": {},
   "outputs": [
    {
     "data": {
      "text/plain": [
       "Counter({'Deviation/Discrepancy - Procedural': 129195,\n",
       "         'Aircraft Equipment': 69177,\n",
       "         'Conflict': 43390,\n",
       "         'Inflight Event/Encounter': 32478,\n",
       "         'Deviation - Altitude': 26777,\n",
       "         'ATC Issue': 26576,\n",
       "         'Deviation - Track/Heading': 20037,\n",
       "         'Ground Incursion': 11537,\n",
       "         'Airspace Violation': 10550,\n",
       "         'Flight Deck/Cabin/Aircraft Event': 10278,\n",
       "         'Ground Event/Encounter': 10040,\n",
       "         'Deviation - Speed': 4310,\n",
       "         'Ground Excursion': 2786,\n",
       "         'No Specific Anomaly Occurred': 1433})"
      ]
     },
     "execution_count": 119,
     "metadata": {},
     "output_type": "execute_result"
    }
   ],
   "source": [
    "df1b_counter"
   ]
  },
  {
   "cell_type": "code",
   "execution_count": 128,
   "id": "126e9473",
   "metadata": {},
   "outputs": [],
   "source": [
    "counters = zip(\n",
    "    [df1b_counter, train_counter, val_counter, test_counter],\n",
    "    [\"Total\", \"Train\", \"Validation\", \"Test\"],\n",
    ")\n",
    "data = [\n",
    "    pd.DataFrame(\n",
    "        {\n",
    "            \"anomaly\": counter.keys(),\n",
    "            \"count\": counter.values(),\n",
    "            \"split\": [name] * len(counter),\n",
    "        }\n",
    "    )\n",
    "    for (counter, name) in counters\n",
    "]\n",
    "data = pd.concat(data).reset_index()"
   ]
  },
  {
   "cell_type": "code",
   "execution_count": 133,
   "id": "ae45110b",
   "metadata": {},
   "outputs": [
    {
     "data": {
      "application/vnd.microsoft.datawrangler.viewer.v0+json": {
       "columns": [
        {
         "name": "index",
         "rawType": "int64",
         "type": "integer"
        },
        {
         "name": "index",
         "rawType": "int64",
         "type": "integer"
        },
        {
         "name": "anomaly",
         "rawType": "object",
         "type": "string"
        },
        {
         "name": "count",
         "rawType": "int64",
         "type": "integer"
        },
        {
         "name": "split",
         "rawType": "object",
         "type": "string"
        }
       ],
       "ref": "67651db8-4c97-4423-9cd9-ca423b6228fa",
       "rows": [
        [
         "0",
         "0",
         "Deviation - Altitude",
         "26777",
         "Total"
        ],
        [
         "1",
         "1",
         "Deviation/Discrepancy - Procedural",
         "129195",
         "Total"
        ],
        [
         "2",
         "2",
         "Conflict",
         "43390",
         "Total"
        ],
        [
         "3",
         "3",
         "Deviation - Track/Heading",
         "20037",
         "Total"
        ],
        [
         "4",
         "4",
         "Deviation - Speed",
         "4310",
         "Total"
        ]
       ],
       "shape": {
        "columns": 4,
        "rows": 5
       }
      },
      "text/html": [
       "<div>\n",
       "<style scoped>\n",
       "    .dataframe tbody tr th:only-of-type {\n",
       "        vertical-align: middle;\n",
       "    }\n",
       "\n",
       "    .dataframe tbody tr th {\n",
       "        vertical-align: top;\n",
       "    }\n",
       "\n",
       "    .dataframe thead th {\n",
       "        text-align: right;\n",
       "    }\n",
       "</style>\n",
       "<table border=\"1\" class=\"dataframe\">\n",
       "  <thead>\n",
       "    <tr style=\"text-align: right;\">\n",
       "      <th></th>\n",
       "      <th>index</th>\n",
       "      <th>anomaly</th>\n",
       "      <th>count</th>\n",
       "      <th>split</th>\n",
       "    </tr>\n",
       "  </thead>\n",
       "  <tbody>\n",
       "    <tr>\n",
       "      <th>0</th>\n",
       "      <td>0</td>\n",
       "      <td>Deviation - Altitude</td>\n",
       "      <td>26777</td>\n",
       "      <td>Total</td>\n",
       "    </tr>\n",
       "    <tr>\n",
       "      <th>1</th>\n",
       "      <td>1</td>\n",
       "      <td>Deviation/Discrepancy - Procedural</td>\n",
       "      <td>129195</td>\n",
       "      <td>Total</td>\n",
       "    </tr>\n",
       "    <tr>\n",
       "      <th>2</th>\n",
       "      <td>2</td>\n",
       "      <td>Conflict</td>\n",
       "      <td>43390</td>\n",
       "      <td>Total</td>\n",
       "    </tr>\n",
       "    <tr>\n",
       "      <th>3</th>\n",
       "      <td>3</td>\n",
       "      <td>Deviation - Track/Heading</td>\n",
       "      <td>20037</td>\n",
       "      <td>Total</td>\n",
       "    </tr>\n",
       "    <tr>\n",
       "      <th>4</th>\n",
       "      <td>4</td>\n",
       "      <td>Deviation - Speed</td>\n",
       "      <td>4310</td>\n",
       "      <td>Total</td>\n",
       "    </tr>\n",
       "  </tbody>\n",
       "</table>\n",
       "</div>"
      ],
      "text/plain": [
       "   index                             anomaly   count  split\n",
       "0      0                Deviation - Altitude   26777  Total\n",
       "1      1  Deviation/Discrepancy - Procedural  129195  Total\n",
       "2      2                            Conflict   43390  Total\n",
       "3      3           Deviation - Track/Heading   20037  Total\n",
       "4      4                   Deviation - Speed    4310  Total"
      ]
     },
     "execution_count": 133,
     "metadata": {},
     "output_type": "execute_result"
    }
   ],
   "source": [
    "data.head()"
   ]
  },
  {
   "cell_type": "code",
   "execution_count": 155,
   "id": "e915bf49",
   "metadata": {},
   "outputs": [
    {
     "data": {
      "image/png": "[encoded data removed]",
      "text/plain": [
       "<Figure size 1500x300 with 1 Axes>"
      ]
     },
     "metadata": {},
     "output_type": "display_data"
    }
   ],
   "source": [
    "plt.figure(figsize=(15, 3))\n",
    "sns.barplot(data=data, hue=\"split\", x=\"anomaly\", y=\"count\")\n",
    "plt.xticks(rotation=45, ha=\"right\", fontsize=13)  # or try 90 for vertical\n",
    "plt.xlabel(\"Anomaly Type\", fontsize=16)\n",
    "plt.ylabel(\"Count\", fontsize=16)\n",
    "plt.title(\"Anomaly Distribution by Dataset Split\", fontsize=18)\n",
    "plt.legend(title=\"Dataset Split\", title_fontsize=15, fontsize=13)\n",
    "plt.show()"
   ]
  }
 ],
 "metadata": {
  "kernelspec": {
   "display_name": "asrs",
   "language": "python",
   "name": "python3"
  },
  "language_info": {
   "codemirror_mode": {
    "name": "ipython",
    "version": 3
   },
   "file_extension": ".py",
   "mimetype": "text/x-python",
   "name": "python",
   "nbconvert_exporter": "python",
   "pygments_lexer": "ipython3",
   "version": "3.10.16"
  }
 },
 "nbformat": 4,
 "nbformat_minor": 5
}
