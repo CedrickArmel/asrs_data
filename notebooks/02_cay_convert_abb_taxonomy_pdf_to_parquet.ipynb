{
 "cells": [
  {
   "cell_type": "code",
   "execution_count": 1,
   "id": "a28dbbbb",
   "metadata": {},
   "outputs": [
    {
     "name": "stderr",
     "output_type": "stream",
     "text": [
      "/Users/drxc/.pyenv/versions/asrs/lib/python3.10/site-packages/pypdf/_crypt_providers/_cryptography.py:32: CryptographyDeprecationWarning: ARC4 has been moved to cryptography.hazmat.decrepit.ciphers.algorithms.ARC4 and will be removed from cryptography.hazmat.primitives.ciphers.algorithms in 48.0.0.\n",
      "  from cryptography.hazmat.primitives.ciphers.algorithms import AES, ARC4\n"
     ]
    }
   ],
   "source": [
    "import json\n",
    "from glob import glob\n",
    "import camelot\n",
    "import pandas as pd"
   ]
  },
  {
   "cell_type": "markdown",
   "id": "fe9cc08a",
   "metadata": {},
   "source": [
    "# Extract Abbs"
   ]
  },
  {
   "cell_type": "markdown",
   "id": "f47289f8",
   "metadata": {},
   "source": [
    "tables = camelot.read_pdf(\"../references/asrs_abbreviations.pdf\", pages=\"all\")\n",
    "tables.export(\"../data/00_raw/asrs_abbreviations.csv\", f=\"csv\", compress=False)"
   ]
  },
  {
   "cell_type": "markdown",
   "id": "f4c2cfa1",
   "metadata": {},
   "source": [
    "After cleaning manually..."
   ]
  },
  {
   "cell_type": "code",
   "execution_count": null,
   "id": "b178c620",
   "metadata": {},
   "outputs": [],
   "source": [
    "df = pd.concat(\n",
    "    [pd.read_csv(f) for f in glob(\"../data/00_raw/asrs_abbreviations-*.csv\")],\n",
    "    ignore_index=True,\n",
    ")"
   ]
  },
  {
   "cell_type": "code",
   "execution_count": null,
   "id": "d28fe3e5",
   "metadata": {},
   "outputs": [],
   "source": [
    "df"
   ]
  },
  {
   "cell_type": "code",
   "execution_count": null,
   "id": "5e788c26",
   "metadata": {},
   "outputs": [],
   "source": [
    "df.info()"
   ]
  },
  {
   "cell_type": "code",
   "execution_count": null,
   "id": "1ae14870",
   "metadata": {},
   "outputs": [],
   "source": [
    "df = df.drop_duplicates(subset=[\"code\", \"description\"]).reset_index(drop=True).dropna()\n",
    "df.info()"
   ]
  },
  {
   "cell_type": "code",
   "execution_count": null,
   "id": "c01c4f36",
   "metadata": {},
   "outputs": [],
   "source": [
    "df = df.sort_values(by=\"code\")\n",
    "decode_dict = {k: v for (k, v) in df.to_dict(orient=\"split\")[\"data\"]}\n",
    "df = df.sort_values(by=\"description\")\n",
    "encode_dict = {k: v for (v, k) in df.to_dict(orient=\"split\")[\"data\"]}"
   ]
  },
  {
   "cell_type": "code",
   "execution_count": null,
   "id": "2d68e3b2",
   "metadata": {},
   "outputs": [],
   "source": [
    "with open(\"../data/01_primary/abs_decoder.json\", \"w\") as f:\n",
    "    json.dump(decode_dict, f, indent=4)\n",
    "\n",
    "with open(\"../data/01_primary/abs_encoder.json\", \"w\") as f:\n",
    "    json.dump(encode_dict, f, indent=4)"
   ]
  },
  {
   "cell_type": "markdown",
   "id": "bbe6f99a",
   "metadata": {},
   "source": [
    "# Extract taxonomy"
   ]
  },
  {
   "cell_type": "code",
   "execution_count": 3,
   "id": "c1753273",
   "metadata": {},
   "outputs": [],
   "source": [
    "tax_tables = camelot.read_pdf(\"../references/asrs_taxonomy.pdf\", pages=\"13\")\n",
    "tax_tables.export(\"../data/00_raw/asrs_taxonomy.csv\", f=\"csv\", compress=False)"
   ]
  },
  {
   "cell_type": "code",
   "execution_count": null,
   "id": "f9c270f4",
   "metadata": {},
   "outputs": [],
   "source": []
  }
 ],
 "metadata": {
  "kernelspec": {
   "display_name": "asrs",
   "language": "python",
   "name": "python3"
  },
  "language_info": {
   "codemirror_mode": {
    "name": "ipython",
    "version": 3
   },
   "file_extension": ".py",
   "mimetype": "text/x-python",
   "name": "python",
   "nbconvert_exporter": "python",
   "pygments_lexer": "ipython3",
   "version": "3.10.16"
  }
 },
 "nbformat": 4,
 "nbformat_minor": 5
}
